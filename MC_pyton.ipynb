{
 "cells": [
  {
   "cell_type": "code",
   "execution_count": 20,
   "id": "1e14a1a7-cd92-4bd5-ad87-937968fa785f",
   "metadata": {},
   "outputs": [
    {
     "data": {
      "text/plain": [
       "1.671081031070994"
      ]
     },
     "execution_count": 20,
     "metadata": {},
     "output_type": "execute_result"
    }
   ],
   "source": [
    "import numpy as np\n",
    "import pandas as pd\n",
    "\n",
    "M = 100 \n",
    "I = 50000 \n",
    "T = 1\n",
    "S0 = 36\n",
    "r = 0.06\n",
    "sigma = 0.02\n",
    "K = 40\n",
    "\n",
    "def mcs_simulation_py(p):\n",
    "    M, I = p\n",
    "    dt = T / M\n",
    "    S = np.zeros((M + 1, I))\n",
    "    S[0] = S0\n",
    "    rn = np.random.standard_normal(S.shape) \n",
    "    for t in range(1, M + 1): \n",
    "        for i in range(I): \n",
    "            S[t, i] = S[t-1, i] * np.exp((r - sigma ** 2 / 2) * dt + sigma * np.sqrt(dt) * rn[t, i]) \n",
    "    return S\n",
    "\n",
    "S = mcs_simulation_py((M,I))\n",
    "\n",
    "C0 = np.exp(-r * T) * np.maximum(K - S[-1], 0).mean()\n",
    "C0"
   ]
  },
  {
   "cell_type": "code",
   "execution_count": null,
   "id": "a3a9128e-9f7b-49c4-bac3-957112723077",
   "metadata": {},
   "outputs": [],
   "source": []
  },
  {
   "cell_type": "code",
   "execution_count": null,
   "id": "f115164c-342a-43c1-8ba3-508855f460c7",
   "metadata": {},
   "outputs": [],
   "source": []
  }
 ],
 "metadata": {
  "kernelspec": {
   "display_name": "Python 3 (ipykernel)",
   "language": "python",
   "name": "python3"
  },
  "language_info": {
   "codemirror_mode": {
    "name": "ipython",
    "version": 3
   },
   "file_extension": ".py",
   "mimetype": "text/x-python",
   "name": "python",
   "nbconvert_exporter": "python",
   "pygments_lexer": "ipython3",
   "version": "3.9.7"
  }
 },
 "nbformat": 4,
 "nbformat_minor": 5
}
