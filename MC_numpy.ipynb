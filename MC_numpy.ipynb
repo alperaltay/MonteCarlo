{
 "cells": [
  {
   "cell_type": "code",
   "execution_count": 3,
   "id": "628ebd4d-89f1-4ef3-9f37-9c303fcdc8a8",
   "metadata": {},
   "outputs": [
    {
     "data": {
      "text/plain": [
       "1.6715740089648299"
      ]
     },
     "execution_count": 3,
     "metadata": {},
     "output_type": "execute_result"
    }
   ],
   "source": [
    "import numpy as np\n",
    "\n",
    "M = 100 \n",
    "I = 50000 \n",
    "T = 1\n",
    "S0 = 36\n",
    "r = 0.06\n",
    "sigma = 0.02\n",
    "K = 40\n",
    "\n",
    "def mcs_simulation_np(p):\n",
    "    M, I = p\n",
    "    dt = T / M\n",
    "    S = np.zeros((M + 1, I))\n",
    "    S[0] = S0\n",
    "    rn = np.random.standard_normal(S.shape)\n",
    "    for t in range(1, M + 1): \n",
    "        S[t] = S[t-1] * np.exp((r - sigma ** 2 / 2) * dt + sigma * np.sqrt(dt) * rn[t])\n",
    "    return S\n",
    "\n",
    "S = mcs_simulation_np((M, I))\n",
    "\n",
    "C0 = np.exp(-r * T) * np.maximum(K - S[-1], 0).mean()\n",
    "C0\n",
    "\n",
    "'''\n",
    "cok daha hizli cunku tek loop var.\n",
    "\n",
    "'''"
   ]
  },
  {
   "cell_type": "code",
   "execution_count": null,
   "id": "4b86b5b3-357e-4028-ba99-334dada9192a",
   "metadata": {},
   "outputs": [],
   "source": []
  }
 ],
 "metadata": {
  "kernelspec": {
   "display_name": "Python 3 (ipykernel)",
   "language": "python",
   "name": "python3"
  },
  "language_info": {
   "codemirror_mode": {
    "name": "ipython",
    "version": 3
   },
   "file_extension": ".py",
   "mimetype": "text/x-python",
   "name": "python",
   "nbconvert_exporter": "python",
   "pygments_lexer": "ipython3",
   "version": "3.9.7"
  }
 },
 "nbformat": 4,
 "nbformat_minor": 5
}
